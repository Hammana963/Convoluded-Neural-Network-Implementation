{
 "cells": [
  {
   "cell_type": "code",
   "execution_count": 1,
   "id": "2b484f89",
   "metadata": {
    "_cell_guid": "b1076dfc-b9ad-4769-8c92-a6c4dae69d19",
    "_uuid": "8f2839f25d086af736a60e9eeb907d3b93b6e0e5",
    "execution": {
     "iopub.execute_input": "2022-08-01T02:13:21.397416Z",
     "iopub.status.busy": "2022-08-01T02:13:21.396284Z",
     "iopub.status.idle": "2022-08-01T02:13:21.412267Z",
     "shell.execute_reply": "2022-08-01T02:13:21.411340Z"
    },
    "papermill": {
     "duration": 0.026315,
     "end_time": "2022-08-01T02:13:21.414976",
     "exception": false,
     "start_time": "2022-08-01T02:13:21.388661",
     "status": "completed"
    },
    "tags": []
   },
   "outputs": [],
   "source": [
    "import numpy as np\n",
    "import pandas as pd\n",
    "from matplotlib import pyplot as plt"
   ]
  },
  {
   "cell_type": "code",
   "execution_count": 2,
   "id": "30f4d40a",
   "metadata": {
    "execution": {
     "iopub.execute_input": "2022-08-01T02:13:21.425382Z",
     "iopub.status.busy": "2022-08-01T02:13:21.424716Z",
     "iopub.status.idle": "2022-08-01T02:13:25.372129Z",
     "shell.execute_reply": "2022-08-01T02:13:25.370850Z"
    },
    "papermill": {
     "duration": 3.956155,
     "end_time": "2022-08-01T02:13:25.375411",
     "exception": false,
     "start_time": "2022-08-01T02:13:21.419256",
     "status": "completed"
    },
    "tags": []
   },
   "outputs": [],
   "source": [
    "data = pd.read_csv('../input/digit-recognizer/train.csv')"
   ]
  },
  {
   "cell_type": "code",
   "execution_count": 3,
   "id": "d4274427",
   "metadata": {
    "execution": {
     "iopub.execute_input": "2022-08-01T02:13:25.385479Z",
     "iopub.status.busy": "2022-08-01T02:13:25.385054Z",
     "iopub.status.idle": "2022-08-01T02:13:26.440045Z",
     "shell.execute_reply": "2022-08-01T02:13:26.438661Z"
    },
    "papermill": {
     "duration": 1.064182,
     "end_time": "2022-08-01T02:13:26.443637",
     "exception": false,
     "start_time": "2022-08-01T02:13:25.379455",
     "status": "completed"
    },
    "tags": []
   },
   "outputs": [],
   "source": [
    "data = np.array(data)\n",
    "m, n = data.shape\n",
    "np.random.shuffle(data) # shuffle before splitting into dev and training sets\n",
    "\n",
    "data_dev = data[0:1000].T\n",
    "Y_dev = data_dev[0]\n",
    "X_dev = data_dev[1:n]\n",
    "X_dev = X_dev / 255.\n",
    "\n",
    "data_train = data[1000:m].T\n",
    "Y_train = data_train[0]\n",
    "X_train = data_train[1:n]\n",
    "X_train = X_train / 255.\n",
    "_,m_train = X_train.shape"
   ]
  },
  {
   "cell_type": "code",
   "execution_count": 4,
   "id": "1e8edb24",
   "metadata": {
    "execution": {
     "iopub.execute_input": "2022-08-01T02:13:26.458067Z",
     "iopub.status.busy": "2022-08-01T02:13:26.456621Z",
     "iopub.status.idle": "2022-08-01T02:13:26.470014Z",
     "shell.execute_reply": "2022-08-01T02:13:26.468717Z"
    },
    "papermill": {
     "duration": 0.022687,
     "end_time": "2022-08-01T02:13:26.472837",
     "exception": false,
     "start_time": "2022-08-01T02:13:26.450150",
     "status": "completed"
    },
    "tags": []
   },
   "outputs": [
    {
     "data": {
      "text/plain": [
       "array([5, 2, 1, ..., 7, 8, 2])"
      ]
     },
     "execution_count": 4,
     "metadata": {},
     "output_type": "execute_result"
    }
   ],
   "source": [
    "Y_train"
   ]
  },
  {
   "cell_type": "code",
   "execution_count": 5,
   "id": "56ab7b9a",
   "metadata": {
    "execution": {
     "iopub.execute_input": "2022-08-01T02:13:26.483830Z",
     "iopub.status.busy": "2022-08-01T02:13:26.483024Z",
     "iopub.status.idle": "2022-08-01T02:13:26.498504Z",
     "shell.execute_reply": "2022-08-01T02:13:26.497525Z"
    },
    "papermill": {
     "duration": 0.024317,
     "end_time": "2022-08-01T02:13:26.501381",
     "exception": false,
     "start_time": "2022-08-01T02:13:26.477064",
     "status": "completed"
    },
    "tags": []
   },
   "outputs": [],
   "source": [
    "def init_params():\n",
    "    W1 = np.random.rand(10, 784) - 0.5\n",
    "    b1 = np.random.rand(10, 1) - 0.5\n",
    "    W2 = np.random.rand(10, 10) - 0.5\n",
    "    b2 = np.random.rand(10, 1) - 0.5\n",
    "    return W1, b1, W2, b2\n",
    "\n",
    "def ReLU(Z):\n",
    "    return np.maximum(0, Z)\n",
    "\n",
    "def softmax(Z):\n",
    "    return np.exp(Z) / sum(np.exp(Z))\n",
    "\n",
    "def forward_prop(W1, b1, W2, b2, X):\n",
    "    Z1 = W1.dot(X) + b1\n",
    "    A1 = ReLU(Z1)\n",
    "    Z2 = W2.dot(A1) + b2\n",
    "    A2 = softmax(Z2)\n",
    "    return Z1, A1, Z2, A2\n",
    "\n",
    "def one_hot(Y):\n",
    "    one_hot_Y = np.zeros((Y.size, Y.max() + 1))\n",
    "    one_hot_Y[np.arange(Y.size), Y] = 1\n",
    "    one_hot_Y = one_hot_Y.T\n",
    "    return one_hot_Y\n",
    "\n",
    "def ReLU_deriv(Z):\n",
    "    return Z > 0\n",
    "\n",
    "def back_prop(Z1, A1, Z2, A2, W2, X, Y):\n",
    "    one_hot_Y = one_hot(Y)\n",
    "    dZ2 = A2 - one_hot_Y\n",
    "    dW2 = 1 / m * dZ2.dot(A1.T)\n",
    "    db2 = 1 / m * np.sum(dZ2)\n",
    "    dZ1 = W2.T.dot(dZ2) * ReLU_deriv(Z1)\n",
    "    dW1 = 1 / m * dZ1.dot(X.T)\n",
    "    db1 = 1 / m * np.sum(dZ1)\n",
    "    return dW1, db1, dW2, db2\n",
    "\n",
    "def update_params(W1, b1, W2, b2, dW1, db1, dW2, db2, alpha):\n",
    "    W1 = W1 - alpha * dW1\n",
    "    b1 = b1 - alpha * db1\n",
    "    W2 = W2 - alpha * dW2\n",
    "    b2 = b2 - alpha * db2\n",
    "    return W1, b1, W2, b2 "
   ]
  },
  {
   "cell_type": "code",
   "execution_count": 6,
   "id": "d6846e03",
   "metadata": {
    "execution": {
     "iopub.execute_input": "2022-08-01T02:13:26.512113Z",
     "iopub.status.busy": "2022-08-01T02:13:26.511315Z",
     "iopub.status.idle": "2022-08-01T02:13:26.521536Z",
     "shell.execute_reply": "2022-08-01T02:13:26.520505Z"
    },
    "papermill": {
     "duration": 0.018708,
     "end_time": "2022-08-01T02:13:26.524281",
     "exception": false,
     "start_time": "2022-08-01T02:13:26.505573",
     "status": "completed"
    },
    "tags": []
   },
   "outputs": [],
   "source": [
    "def get_predictions(A2):\n",
    "    return np.argmax(A2, 0)\n",
    "\n",
    "def get_accuracy(predictions, Y):\n",
    "    print(predictions, Y)\n",
    "    return np.sum(predictions == Y) / Y.size\n",
    "\n",
    "def gradient_descent(X, Y, iterations, alpha):\n",
    "    W1, b1, W2, b2 = init_params()\n",
    "    for i in range(iterations):\n",
    "        Z1, A1, Z2, A2 = forward_prop(W1, b1, W2, b2, X)\n",
    "        dW1, db1, dW2, db2 = back_prop(Z1, A1, Z2, A2, W2, X, Y)\n",
    "        W1, b1, W2, b2 = update_params(W1, b1, W2, b2, dW1, db1, dW2, db2, alpha)\n",
    "        if(i % 50 == 0):\n",
    "            print(\"Iteration: \", i)\n",
    "            print(\"Accuracy: \", get_accuracy(get_predictions(A2), Y))\n",
    "    return W1, b1, W2, b2\n"
   ]
  },
  {
   "cell_type": "code",
   "execution_count": 7,
   "id": "cf046ca5",
   "metadata": {
    "execution": {
     "iopub.execute_input": "2022-08-01T02:13:26.535243Z",
     "iopub.status.busy": "2022-08-01T02:13:26.534434Z",
     "iopub.status.idle": "2022-08-01T02:14:47.249335Z",
     "shell.execute_reply": "2022-08-01T02:14:47.247974Z"
    },
    "papermill": {
     "duration": 80.725036,
     "end_time": "2022-08-01T02:14:47.253692",
     "exception": false,
     "start_time": "2022-08-01T02:13:26.528656",
     "status": "completed"
    },
    "tags": []
   },
   "outputs": [
    {
     "name": "stdout",
     "output_type": "stream",
     "text": [
      "Iteration:  0\n",
      "[0 0 6 ... 6 6 6] [5 2 1 ... 7 8 2]\n",
      "Accuracy:  0.053829268292682926\n",
      "Iteration:  50\n",
      "[5 1 1 ... 2 6 4] [5 2 1 ... 7 8 2]\n",
      "Accuracy:  0.3454634146341463\n",
      "Iteration:  100\n",
      "[3 1 1 ... 7 8 4] [5 2 1 ... 7 8 2]\n",
      "Accuracy:  0.4795853658536585\n",
      "Iteration:  150\n",
      "[5 1 1 ... 9 8 4] [5 2 1 ... 7 8 2]\n",
      "Accuracy:  0.5918780487804878\n",
      "Iteration:  200\n",
      "[5 1 1 ... 9 8 2] [5 2 1 ... 7 8 2]\n",
      "Accuracy:  0.6765121951219513\n",
      "Iteration:  250\n",
      "[5 1 1 ... 7 8 2] [5 2 1 ... 7 8 2]\n",
      "Accuracy:  0.7320731707317073\n",
      "Iteration:  300\n",
      "[5 1 1 ... 7 8 2] [5 2 1 ... 7 8 2]\n",
      "Accuracy:  0.7674634146341464\n",
      "Iteration:  350\n",
      "[5 1 1 ... 7 8 2] [5 2 1 ... 7 8 2]\n",
      "Accuracy:  0.7882926829268293\n",
      "Iteration:  400\n",
      "[5 1 1 ... 7 8 2] [5 2 1 ... 7 8 2]\n",
      "Accuracy:  0.8045609756097561\n",
      "Iteration:  450\n",
      "[5 1 1 ... 7 8 2] [5 2 1 ... 7 8 2]\n",
      "Accuracy:  0.8167073170731707\n"
     ]
    }
   ],
   "source": [
    "W1, b1, W2, b2 = gradient_descent(X_train, Y_train, 500, 0.1)"
   ]
  },
  {
   "cell_type": "code",
   "execution_count": 8,
   "id": "75a672c7",
   "metadata": {
    "execution": {
     "iopub.execute_input": "2022-08-01T02:14:47.274611Z",
     "iopub.status.busy": "2022-08-01T02:14:47.273938Z",
     "iopub.status.idle": "2022-08-01T02:14:47.286317Z",
     "shell.execute_reply": "2022-08-01T02:14:47.285092Z"
    },
    "papermill": {
     "duration": 0.02739,
     "end_time": "2022-08-01T02:14:47.290889",
     "exception": false,
     "start_time": "2022-08-01T02:14:47.263499",
     "status": "completed"
    },
    "tags": []
   },
   "outputs": [],
   "source": [
    "def make_predictions(X, W1, b1, W2, b2):\n",
    "    _, _, _, A2 = forward_prop(W1, b1, W2, b2, X)\n",
    "    predictions = get_predictions(A2)\n",
    "    return predictions\n",
    "\n",
    "def test_prediction(index, W1, b1, W2, b2):\n",
    "    current_image = X_train[:, index, None]\n",
    "    prediction = make_predictions(X_train[:, index, None], W1, b1, W2, b2)\n",
    "    label = Y_train[index]\n",
    "    print(\"Prediction: \", prediction)\n",
    "    print(\"Label: \", label)\n",
    "    \n",
    "    current_image = current_image.reshape((28, 28)) * 255\n",
    "    plt.gray()\n",
    "    plt.imshow(current_image, interpolation='nearest')\n",
    "    plt.show()"
   ]
  },
  {
   "cell_type": "code",
   "execution_count": 9,
   "id": "dfa127d7",
   "metadata": {
    "execution": {
     "iopub.execute_input": "2022-08-01T02:14:47.309803Z",
     "iopub.status.busy": "2022-08-01T02:14:47.309271Z",
     "iopub.status.idle": "2022-08-01T02:14:47.841529Z",
     "shell.execute_reply": "2022-08-01T02:14:47.840737Z"
    },
    "papermill": {
     "duration": 0.544031,
     "end_time": "2022-08-01T02:14:47.843752",
     "exception": false,
     "start_time": "2022-08-01T02:14:47.299721",
     "status": "completed"
    },
    "tags": []
   },
   "outputs": [
    {
     "name": "stdout",
     "output_type": "stream",
     "text": [
      "Prediction:  [5]\n",
      "Label:  5\n"
     ]
    },
    {
     "data": {
      "image/png": "[encoded data removed]",
      "text/plain": [
       "<Figure size 432x288 with 1 Axes>"
      ]
     },
     "metadata": {
      "needs_background": "light"
     },
     "output_type": "display_data"
    },
    {
     "name": "stdout",
     "output_type": "stream",
     "text": [
      "Prediction:  [1]\n",
      "Label:  2\n"
     ]
    },
    {
     "data": {
      "image/png": "[encoded data removed]",
      "text/plain": [
       "<Figure size 432x288 with 1 Axes>"
      ]
     },
     "metadata": {
      "needs_background": "light"
     },
     "output_type": "display_data"
    },
    {
     "name": "stdout",
     "output_type": "stream",
     "text": [
      "Prediction:  [6]\n",
      "Label:  6\n"
     ]
    },
    {
     "data": {
      "image/png": "[encoded data removed]",
      "text/plain": [
       "<Figure size 432x288 with 1 Axes>"
      ]
     },
     "metadata": {
      "needs_background": "light"
     },
     "output_type": "display_data"
    },
    {
     "name": "stdout",
     "output_type": "stream",
     "text": [
      "Prediction:  [9]\n",
      "Label:  9\n"
     ]
    },
    {
     "data": {
      "image/png": "[encoded data removed]",
      "text/plain": [
       "<Figure size 432x288 with 1 Axes>"
      ]
     },
     "metadata": {
      "needs_background": "light"
     },
     "output_type": "display_data"
    }
   ],
   "source": [
    "test_prediction(0, W1, b1, W2, b2)\n",
    "test_prediction(1, W1, b1, W2, b2)\n",
    "test_prediction(500, W1, b1, W2, b2)\n",
    "test_prediction(300, W1, b1, W2, b2)"
   ]
  },
  {
   "cell_type": "code",
   "execution_count": 10,
   "id": "07db5f0e",
   "metadata": {
    "execution": {
     "iopub.execute_input": "2022-08-01T02:14:47.857412Z",
     "iopub.status.busy": "2022-08-01T02:14:47.856431Z",
     "iopub.status.idle": "2022-08-01T02:14:47.880217Z",
     "shell.execute_reply": "2022-08-01T02:14:47.879101Z"
    },
    "papermill": {
     "duration": 0.038146,
     "end_time": "2022-08-01T02:14:47.887651",
     "exception": false,
     "start_time": "2022-08-01T02:14:47.849505",
     "status": "completed"
    },
    "tags": []
   },
   "outputs": [
    {
     "name": "stdout",
     "output_type": "stream",
     "text": [
      "[2 4 5 6 1 3 5 9 8 2 3 6 7 4 5 4 1 0 2 3 3 5 2 3 6 6 1 9 6 7 5 2 1 9 9 8 2\n",
      " 1 7 8 1 3 4 8 8 0 3 8 6 2 1 4 2 2 8 8 0 6 4 4 3 8 4 0 0 0 4 5 9 9 7 8 7 4\n",
      " 5 7 1 9 3 2 9 8 9 8 8 2 1 8 9 2 8 4 1 1 0 5 9 9 6 3 1 3 4 2 3 6 1 9 8 1 4\n",
      " 0 3 0 0 1 6 5 9 8 5 4 4 5 9 6 1 4 4 9 6 0 0 8 3 9 1 7 1 6 4 2 6 1 1 0 9 7\n",
      " 9 8 9 7 1 0 2 2 1 0 6 1 1 2 4 6 3 9 4 4 6 9 6 6 5 9 5 4 3 3 3 1 2 3 9 9 2\n",
      " 4 7 2 1 9 1 7 2 6 2 6 4 3 3 8 1 6 9 5 8 3 4 1 5 8 2 6 9 7 2 5 2 6 3 6 7 9\n",
      " 3 0 1 2 4 5 9 5 5 2 4 0 4 8 6 7 7 2 2 0 1 5 0 2 4 3 3 2 8 2 6 7 7 1 8 0 4\n",
      " 9 2 6 1 2 2 1 2 0 3 3 4 1 4 9 0 8 0 6 2 8 4 5 8 0 3 8 6 8 8 7 4 7 7 5 5 2\n",
      " 9 6 1 6 9 1 5 3 3 0 2 0 8 2 1 1 1 2 5 4 3 1 3 3 9 6 7 6 7 3 0 1 6 4 1 3 8\n",
      " 0 8 9 7 5 3 1 9 3 4 7 3 1 3 6 7 6 9 1 1 2 5 1 3 8 6 4 1 5 9 2 0 0 4 9 9 7\n",
      " 0 3 1 4 6 9 4 3 3 0 5 1 7 7 4 3 6 4 1 7 6 5 2 3 3 4 9 2 4 5 0 6 2 7 7 6 4\n",
      " 2 5 1 1 4 1 4 4 6 3 5 9 4 0 5 3 4 4 5 9 2 7 1 0 8 0 2 8 4 1 9 1 0 3 7 8 9\n",
      " 4 6 9 1 6 9 9 4 7 2 0 9 7 7 0 3 7 2 7 4 8 8 6 6 1 0 5 6 9 7 1 5 4 6 7 2 6\n",
      " 9 8 6 1 6 3 3 1 5 0 3 7 6 8 4 0 3 0 7 5 0 3 2 8 4 8 8 9 7 4 6 2 9 1 5 7 2\n",
      " 2 8 8 3 9 4 8 9 6 9 3 6 2 9 9 1 2 7 8 8 4 1 6 9 4 1 7 3 3 6 9 1 6 2 4 9 9\n",
      " 1 7 1 3 6 9 6 0 3 7 4 5 9 1 9 2 3 5 3 4 7 6 2 1 0 3 2 6 1 2 2 9 4 7 6 4 0\n",
      " 6 8 6 2 8 7 0 6 8 9 0 8 4 5 9 6 1 1 8 7 1 2 2 7 6 7 0 3 4 1 6 7 3 1 2 5 1\n",
      " 2 1 3 8 8 2 7 7 6 8 6 9 3 1 4 7 9 6 7 2 4 8 8 5 9 9 0 7 7 3 4 9 7 2 5 6 1\n",
      " 1 4 9 4 3 0 3 1 4 9 0 3 1 1 5 6 4 3 7 6 5 0 6 0 6 7 6 8 2 1 5 8 1 0 3 4 9\n",
      " 7 8 8 8 1 1 6 2 7 2 0 0 2 1 1 6 4 8 4 9 3 3 4 8 2 6 1 8 1 4 3 5 3 6 9 5 4\n",
      " 1 6 2 6 0 2 3 9 6 0 1 8 8 9 1 4 7 4 0 3 4 0 7 2 3 8 6 2 1 3 6 8 5 8 1 1 7\n",
      " 4 6 3 6 6 7 2 1 4 2 8 5 3 3 6 8 2 2 2 9 8 3 5 1 8 7 0 2 8 6 0 9 5 8 7 6 9\n",
      " 2 3 0 6 0 4 2 9 2 0 8 4 0 3 4 2 5 8 7 6 6 1 1 9 6 9 1 4 9 2 4 9 1 4 4 2 3\n",
      " 7 8 4 7 4 4 0 4 1 1 5 1 6 4 3 7 0 2 3 0 4 5 9 1 1 8 4 7 4 7 4 7 1 3 8 5 7\n",
      " 4 7 7 5 2 6 1 1 7 5 8 3 8 9 1 9 3 0 4 8 8 9 4 3 4 4 9 9 2 6 0 7 5 3 7 6 3\n",
      " 0 2 6 1 3 1 9 5 7 2 9 6 9 7 3 0 4 0 7 4 7 4 4 8 1 9 0 8 8 5 3 6 9 8 4 5 9\n",
      " 8 6 7 0 0 0 6 7 1 7 1 2 3 9 9 8 0 3 1 8 7 1 6 2 8 4 1 4 1 0 2 2 8 5 1 2 4\n",
      " 9] [2 4 5 6 1 5 5 9 8 2 2 6 2 4 5 9 1 0 2 3 3 8 2 3 6 5 1 4 6 7 5 2 1 9 9 8 2\n",
      " 8 7 8 1 3 8 8 5 0 8 2 6 8 1 4 2 2 5 8 0 6 4 4 3 8 4 0 5 0 9 5 9 8 9 8 7 4\n",
      " 5 7 1 4 6 2 9 5 9 8 2 2 1 8 9 2 8 4 1 1 0 8 9 7 6 3 1 3 4 1 3 6 1 4 5 1 4\n",
      " 0 3 0 0 1 6 5 9 8 5 4 4 5 5 6 1 4 7 9 6 0 0 8 3 8 1 7 1 6 4 2 6 1 1 0 9 7\n",
      " 9 8 9 7 1 0 2 2 1 0 6 2 1 2 4 6 3 9 4 6 6 9 4 6 5 9 5 4 3 3 3 1 2 3 9 9 7\n",
      " 4 7 2 1 3 1 7 8 6 2 6 4 5 3 8 1 6 9 5 8 3 4 1 5 8 2 6 9 7 6 0 3 6 3 6 7 7\n",
      " 5 0 1 2 4 5 9 0 5 2 4 0 4 8 6 7 7 8 2 0 1 0 0 2 4 3 3 2 8 2 6 7 7 1 8 0 9\n",
      " 9 2 6 1 2 2 1 2 0 3 3 5 1 4 9 0 8 0 6 8 8 9 6 8 0 3 8 6 8 8 7 4 7 7 5 5 2\n",
      " 9 6 1 6 9 2 5 3 3 0 2 0 8 2 1 1 1 2 3 9 3 1 3 5 9 6 7 6 7 3 0 8 5 9 1 8 8\n",
      " 2 8 7 7 5 3 1 9 3 4 7 3 1 3 6 7 6 9 1 1 2 5 1 3 8 5 4 1 8 9 2 2 0 4 9 9 7\n",
      " 0 3 1 4 6 9 4 3 3 0 8 1 3 7 4 3 6 4 1 7 6 2 2 3 3 6 9 2 4 5 0 6 2 9 7 4 4\n",
      " 2 8 8 1 4 1 4 4 2 3 5 9 9 0 5 3 4 4 5 9 2 7 9 0 1 0 4 8 4 1 9 1 0 3 7 8 9\n",
      " 4 6 9 1 6 9 9 4 7 3 0 9 7 7 0 3 7 2 2 7 8 8 6 6 1 0 8 6 9 7 1 5 4 6 7 2 6\n",
      " 9 8 4 1 6 5 3 1 5 0 3 7 6 8 6 0 2 0 7 5 0 3 2 5 4 8 8 9 7 4 6 2 9 1 5 7 2\n",
      " 2 8 8 3 9 4 8 9 8 9 3 6 3 9 9 1 2 7 8 8 4 1 6 4 4 1 7 3 3 6 9 8 6 2 4 9 9\n",
      " 1 7 1 3 6 9 6 0 3 7 4 5 4 1 4 2 3 5 3 4 7 6 2 1 0 3 2 5 1 3 2 9 2 9 6 4 0\n",
      " 6 8 6 2 1 7 0 6 8 7 0 8 9 8 9 6 1 1 5 7 1 2 2 7 6 9 0 3 4 1 6 7 3 4 6 5 1\n",
      " 2 1 3 8 8 2 7 7 6 1 6 9 3 1 4 7 9 6 7 2 4 8 7 8 9 7 0 7 7 5 9 9 7 2 5 8 1\n",
      " 1 9 9 4 7 0 3 1 4 9 0 3 1 1 5 6 2 3 7 4 5 0 6 2 6 7 6 8 8 1 5 8 1 0 3 4 9\n",
      " 7 8 8 8 1 1 5 5 7 2 0 0 2 1 1 6 4 2 4 9 3 5 4 8 2 6 1 5 1 4 3 5 3 6 9 5 4\n",
      " 1 6 2 6 0 2 3 7 6 0 1 4 4 7 1 4 7 9 0 3 4 0 7 2 3 8 6 2 1 3 6 8 5 8 1 1 7\n",
      " 4 6 3 6 6 7 2 1 4 2 8 5 5 3 6 8 2 2 2 9 2 3 5 1 8 7 0 2 8 6 0 9 5 8 7 6 9\n",
      " 2 3 0 6 0 4 2 9 2 0 8 4 0 3 4 2 5 5 7 6 4 1 1 7 6 9 1 4 9 2 4 9 1 4 4 2 3\n",
      " 9 8 4 7 6 4 0 6 1 1 0 1 6 2 3 7 0 2 9 0 9 5 9 1 1 8 4 7 4 7 9 7 8 5 8 5 7\n",
      " 4 7 7 5 4 6 1 1 9 5 8 3 8 9 1 9 3 0 9 8 2 9 4 3 9 4 9 4 3 6 0 7 3 3 7 6 3\n",
      " 0 2 6 1 3 1 9 6 7 5 4 6 9 4 3 0 9 0 7 4 7 9 4 8 1 9 0 0 8 5 3 6 9 2 4 8 9\n",
      " 8 6 7 0 0 0 6 7 1 7 1 2 2 9 9 8 0 3 1 8 9 1 6 8 8 4 1 9 1 0 2 2 8 3 1 8 9\n",
      " 9]\n"
     ]
    },
    {
     "data": {
      "text/plain": [
       "0.835"
      ]
     },
     "execution_count": 10,
     "metadata": {},
     "output_type": "execute_result"
    }
   ],
   "source": [
    "dev_predictions = make_predictions(X_dev, W1, b1, W2, b2)\n",
    "get_accuracy(dev_predictions, Y_dev)"
   ]
  }
 ],
 "metadata": {
  "kernelspec": {
   "display_name": "Python 3",
   "language": "python",
   "name": "python3"
  },
  "language_info": {
   "codemirror_mode": {
    "name": "ipython",
    "version": 3
   },
   "file_extension": ".py",
   "mimetype": "text/x-python",
   "name": "python",
   "nbconvert_exporter": "python",
   "pygments_lexer": "ipython3",
   "version": "3.7.12"
  },
  "papermill": {
   "default_parameters": {},
   "duration": 97.183303,
   "end_time": "2022-08-01T02:14:48.524970",
   "environment_variables": {},
   "exception": null,
   "input_path": "__notebook__.ipynb",
   "output_path": "__notebook__.ipynb",
   "parameters": {},
   "start_time": "2022-08-01T02:13:11.341667",
   "version": "2.3.4"
  }
 },
 "nbformat": 4,
 "nbformat_minor": 5
}
